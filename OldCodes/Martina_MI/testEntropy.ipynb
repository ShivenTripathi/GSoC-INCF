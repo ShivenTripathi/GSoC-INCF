{
  "nbformat": 4,
  "nbformat_minor": 0,
  "metadata": {
    "colab": {
      "name": "testEntropy.ipynb",
      "provenance": []
    },
    "kernelspec": {
      "name": "python3",
      "display_name": "Python 3"
    },
    "language_info": {
      "name": "python"
    }
  },
  "cells": [
    {
      "cell_type": "code",
      "metadata": {
        "id": "AiRHAs94YtoO"
      },
      "source": [
        "!apt install octave\n",
        "!pip install oct2py\n",
        "%cd /content\n",
        "!git clone https://github.com/team-hdnet/hdnet\n",
        "%cd hdnet\n",
        "!python setup.py install\n",
        "%cd ..\n",
        "!git clone https://github.com/ShivenTripathi/hdnet_contrib.git\n",
        "%cd hdnet_contrib\n",
        "!python setup.py install\n",
        "%cd .."
      ],
      "execution_count": null,
      "outputs": []
    },
    {
      "cell_type": "code",
      "metadata": {
        "id": "WGelWkWaY2du"
      },
      "source": [
        "#######################\n",
        "### RESTART RUNTIME ###\n",
        "#######################"
      ],
      "execution_count": null,
      "outputs": []
    },
    {
      "cell_type": "code",
      "metadata": {
        "id": "W1EACYFMY45Y"
      },
      "source": [
        "from hdnet import spikes\n",
        "import scipy.io as spio\n",
        "from hdnet_contrib.CDMentropy import CDMentropy"
      ],
      "execution_count": null,
      "outputs": []
    },
    {
      "cell_type": "code",
      "metadata": {
        "colab": {
          "base_uri": "https://localhost:8080/"
        },
        "id": "Zffq8eccY7JZ",
        "outputId": "1b93ccb0-9016-42f2-d8be-0f3b72dfa0d8"
      },
      "source": [
        "dat = spio.loadmat('countArray.mat')\n",
        "true_spikes = spikes.Spikes(dat['count'].T)\n",
        "print(true_spikes)"
      ],
      "execution_count": null,
      "outputs": [
        {
          "output_type": "stream",
          "name": "stdout",
          "text": [
            "<Spikes: 1 neurons, 36000 bins, 1 trials>\n"
          ]
        }
      ]
    },
    {
      "cell_type": "code",
      "metadata": {
        "colab": {
          "base_uri": "https://localhost:8080/"
        },
        "id": "HsU0KBkvZByG",
        "outputId": "30def9b5-7b35-4bac-9d6b-a91a0c416251"
      },
      "source": [
        "#Test\n",
        "cdme = CDMentropy(spikes=true_spikes)\n",
        "E = cdme.entropyCDM(trial=0, time_start=0, neuron_start=0, time_end=36000,neuron_end=1)\n",
        "print(\"Entropy:\",E)"
      ],
      "execution_count": null,
      "outputs": [
        {
          "output_type": "stream",
          "name": "stdout",
          "text": [
            "Entropy: 1.000045542367512\n"
          ]
        }
      ]
    }
  ]
}